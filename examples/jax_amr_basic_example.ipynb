{
  "nbformat": 4,
  "nbformat_minor": 0,
  "metadata": {
    "colab": {
      "provenance": [],
      "toc_visible": true,
      "include_colab_link": true
    },
    "kernelspec": {
      "name": "python3",
      "display_name": "Python 3"
    },
    "language_info": {
      "name": "python"
    },
    "widgets": {
      "application/vnd.jupyter.widget-state+json": {
        "44bb2109fc7940fdbd4813c947a50348": {
          "model_module": "@jupyter-widgets/controls",
          "model_name": "HBoxModel",
          "model_module_version": "1.5.0",
          "state": {
            "_dom_classes": [],
            "_model_module": "@jupyter-widgets/controls",
            "_model_module_version": "1.5.0",
            "_model_name": "HBoxModel",
            "_view_count": null,
            "_view_module": "@jupyter-widgets/controls",
            "_view_module_version": "1.5.0",
            "_view_name": "HBoxView",
            "box_style": "",
            "children": [
              "IPY_MODEL_0f08062fc3454d20b03a0d14f66e072e",
              "IPY_MODEL_62750caefea749ffb544e5ece553c914",
              "IPY_MODEL_7f878b53e68840ea9d30697630958bce"
            ],
            "layout": "IPY_MODEL_15b106a7221c480cb06e85c18934f22f"
          }
        },
        "0f08062fc3454d20b03a0d14f66e072e": {
          "model_module": "@jupyter-widgets/controls",
          "model_name": "HTMLModel",
          "model_module_version": "1.5.0",
          "state": {
            "_dom_classes": [],
            "_model_module": "@jupyter-widgets/controls",
            "_model_module_version": "1.5.0",
            "_model_name": "HTMLModel",
            "_view_count": null,
            "_view_module": "@jupyter-widgets/controls",
            "_view_module_version": "1.5.0",
            "_view_name": "HTMLView",
            "description": "",
            "description_tooltip": null,
            "layout": "IPY_MODEL_748e644ddb6f4fa7a7ee87b8398a2ec8",
            "placeholder": "​",
            "style": "IPY_MODEL_56943e9fa3d14a4b9f7ad045d26ac2d7",
            "value": "Progress: 100%"
          }
        },
        "62750caefea749ffb544e5ece553c914": {
          "model_module": "@jupyter-widgets/controls",
          "model_name": "FloatProgressModel",
          "model_module_version": "1.5.0",
          "state": {
            "_dom_classes": [],
            "_model_module": "@jupyter-widgets/controls",
            "_model_module_version": "1.5.0",
            "_model_name": "FloatProgressModel",
            "_view_count": null,
            "_view_module": "@jupyter-widgets/controls",
            "_view_module_version": "1.5.0",
            "_view_name": "ProgressView",
            "bar_style": "success",
            "description": "",
            "description_tooltip": null,
            "layout": "IPY_MODEL_70fe1731be754815961bae86bb3010d0",
            "max": 30,
            "min": 0,
            "orientation": "horizontal",
            "style": "IPY_MODEL_f4e42710f50f4243bc220ffde8ec2245",
            "value": 30
          }
        },
        "7f878b53e68840ea9d30697630958bce": {
          "model_module": "@jupyter-widgets/controls",
          "model_name": "HTMLModel",
          "model_module_version": "1.5.0",
          "state": {
            "_dom_classes": [],
            "_model_module": "@jupyter-widgets/controls",
            "_model_module_version": "1.5.0",
            "_model_name": "HTMLModel",
            "_view_count": null,
            "_view_module": "@jupyter-widgets/controls",
            "_view_module_version": "1.5.0",
            "_view_name": "HTMLView",
            "description": "",
            "description_tooltip": null,
            "layout": "IPY_MODEL_5819b0bede22472999bad60b9ad3dd2b",
            "placeholder": "​",
            "style": "IPY_MODEL_2f824cf786eb4da284828df1a240e7f1",
            "value": " 30/30 [01:15&lt;00:00,  1.41s/step]"
          }
        },
        "15b106a7221c480cb06e85c18934f22f": {
          "model_module": "@jupyter-widgets/base",
          "model_name": "LayoutModel",
          "model_module_version": "1.2.0",
          "state": {
            "_model_module": "@jupyter-widgets/base",
            "_model_module_version": "1.2.0",
            "_model_name": "LayoutModel",
            "_view_count": null,
            "_view_module": "@jupyter-widgets/base",
            "_view_module_version": "1.2.0",
            "_view_name": "LayoutView",
            "align_content": null,
            "align_items": null,
            "align_self": null,
            "border": null,
            "bottom": null,
            "display": null,
            "flex": null,
            "flex_flow": null,
            "grid_area": null,
            "grid_auto_columns": null,
            "grid_auto_flow": null,
            "grid_auto_rows": null,
            "grid_column": null,
            "grid_gap": null,
            "grid_row": null,
            "grid_template_areas": null,
            "grid_template_columns": null,
            "grid_template_rows": null,
            "height": null,
            "justify_content": null,
            "justify_items": null,
            "left": null,
            "margin": null,
            "max_height": null,
            "max_width": null,
            "min_height": null,
            "min_width": null,
            "object_fit": null,
            "object_position": null,
            "order": null,
            "overflow": null,
            "overflow_x": null,
            "overflow_y": null,
            "padding": null,
            "right": null,
            "top": null,
            "visibility": null,
            "width": null
          }
        },
        "748e644ddb6f4fa7a7ee87b8398a2ec8": {
          "model_module": "@jupyter-widgets/base",
          "model_name": "LayoutModel",
          "model_module_version": "1.2.0",
          "state": {
            "_model_module": "@jupyter-widgets/base",
            "_model_module_version": "1.2.0",
            "_model_name": "LayoutModel",
            "_view_count": null,
            "_view_module": "@jupyter-widgets/base",
            "_view_module_version": "1.2.0",
            "_view_name": "LayoutView",
            "align_content": null,
            "align_items": null,
            "align_self": null,
            "border": null,
            "bottom": null,
            "display": null,
            "flex": null,
            "flex_flow": null,
            "grid_area": null,
            "grid_auto_columns": null,
            "grid_auto_flow": null,
            "grid_auto_rows": null,
            "grid_column": null,
            "grid_gap": null,
            "grid_row": null,
            "grid_template_areas": null,
            "grid_template_columns": null,
            "grid_template_rows": null,
            "height": null,
            "justify_content": null,
            "justify_items": null,
            "left": null,
            "margin": null,
            "max_height": null,
            "max_width": null,
            "min_height": null,
            "min_width": null,
            "object_fit": null,
            "object_position": null,
            "order": null,
            "overflow": null,
            "overflow_x": null,
            "overflow_y": null,
            "padding": null,
            "right": null,
            "top": null,
            "visibility": null,
            "width": null
          }
        },
        "56943e9fa3d14a4b9f7ad045d26ac2d7": {
          "model_module": "@jupyter-widgets/controls",
          "model_name": "DescriptionStyleModel",
          "model_module_version": "1.5.0",
          "state": {
            "_model_module": "@jupyter-widgets/controls",
            "_model_module_version": "1.5.0",
            "_model_name": "DescriptionStyleModel",
            "_view_count": null,
            "_view_module": "@jupyter-widgets/base",
            "_view_module_version": "1.2.0",
            "_view_name": "StyleView",
            "description_width": ""
          }
        },
        "70fe1731be754815961bae86bb3010d0": {
          "model_module": "@jupyter-widgets/base",
          "model_name": "LayoutModel",
          "model_module_version": "1.2.0",
          "state": {
            "_model_module": "@jupyter-widgets/base",
            "_model_module_version": "1.2.0",
            "_model_name": "LayoutModel",
            "_view_count": null,
            "_view_module": "@jupyter-widgets/base",
            "_view_module_version": "1.2.0",
            "_view_name": "LayoutView",
            "align_content": null,
            "align_items": null,
            "align_self": null,
            "border": null,
            "bottom": null,
            "display": null,
            "flex": null,
            "flex_flow": null,
            "grid_area": null,
            "grid_auto_columns": null,
            "grid_auto_flow": null,
            "grid_auto_rows": null,
            "grid_column": null,
            "grid_gap": null,
            "grid_row": null,
            "grid_template_areas": null,
            "grid_template_columns": null,
            "grid_template_rows": null,
            "height": null,
            "justify_content": null,
            "justify_items": null,
            "left": null,
            "margin": null,
            "max_height": null,
            "max_width": null,
            "min_height": null,
            "min_width": null,
            "object_fit": null,
            "object_position": null,
            "order": null,
            "overflow": null,
            "overflow_x": null,
            "overflow_y": null,
            "padding": null,
            "right": null,
            "top": null,
            "visibility": null,
            "width": null
          }
        },
        "f4e42710f50f4243bc220ffde8ec2245": {
          "model_module": "@jupyter-widgets/controls",
          "model_name": "ProgressStyleModel",
          "model_module_version": "1.5.0",
          "state": {
            "_model_module": "@jupyter-widgets/controls",
            "_model_module_version": "1.5.0",
            "_model_name": "ProgressStyleModel",
            "_view_count": null,
            "_view_module": "@jupyter-widgets/base",
            "_view_module_version": "1.2.0",
            "_view_name": "StyleView",
            "bar_color": null,
            "description_width": ""
          }
        },
        "5819b0bede22472999bad60b9ad3dd2b": {
          "model_module": "@jupyter-widgets/base",
          "model_name": "LayoutModel",
          "model_module_version": "1.2.0",
          "state": {
            "_model_module": "@jupyter-widgets/base",
            "_model_module_version": "1.2.0",
            "_model_name": "LayoutModel",
            "_view_count": null,
            "_view_module": "@jupyter-widgets/base",
            "_view_module_version": "1.2.0",
            "_view_name": "LayoutView",
            "align_content": null,
            "align_items": null,
            "align_self": null,
            "border": null,
            "bottom": null,
            "display": null,
            "flex": null,
            "flex_flow": null,
            "grid_area": null,
            "grid_auto_columns": null,
            "grid_auto_flow": null,
            "grid_auto_rows": null,
            "grid_column": null,
            "grid_gap": null,
            "grid_row": null,
            "grid_template_areas": null,
            "grid_template_columns": null,
            "grid_template_rows": null,
            "height": null,
            "justify_content": null,
            "justify_items": null,
            "left": null,
            "margin": null,
            "max_height": null,
            "max_width": null,
            "min_height": null,
            "min_width": null,
            "object_fit": null,
            "object_position": null,
            "order": null,
            "overflow": null,
            "overflow_x": null,
            "overflow_y": null,
            "padding": null,
            "right": null,
            "top": null,
            "visibility": null,
            "width": null
          }
        },
        "2f824cf786eb4da284828df1a240e7f1": {
          "model_module": "@jupyter-widgets/controls",
          "model_name": "DescriptionStyleModel",
          "model_module_version": "1.5.0",
          "state": {
            "_model_module": "@jupyter-widgets/controls",
            "_model_module_version": "1.5.0",
            "_model_name": "DescriptionStyleModel",
            "_view_count": null,
            "_view_module": "@jupyter-widgets/base",
            "_view_module_version": "1.2.0",
            "_view_name": "StyleView",
            "description_width": ""
          }
        }
      }
    }
  },
  "cells": [
    {
      "cell_type": "markdown",
      "metadata": {
        "id": "view-in-github",
        "colab_type": "text"
      },
      "source": [
        "<a href=\"https://colab.research.google.com/github/youshenfan/JAX-AMR/blob/main/examples/jax_amr_basic_example.ipynb\" target=\"_parent\"><img src=\"https://colab.research.google.com/assets/colab-badge.svg\" alt=\"Open In Colab\"/></a>"
      ]
    },
    {
      "cell_type": "markdown",
      "source": [
        "# Install JAX-AMR and import relevant libraries"
      ],
      "metadata": {
        "id": "9fvyrS5uVz13"
      }
    },
    {
      "cell_type": "code",
      "execution_count": 1,
      "metadata": {
        "id": "_LgbRly93mu-",
        "outputId": "e8b8b290-8629-43eb-8688-5a86444bbb39",
        "colab": {
          "base_uri": "https://localhost:8080/"
        }
      },
      "outputs": [
        {
          "output_type": "stream",
          "name": "stdout",
          "text": [
            "Collecting git+https://github.com/JA4S/JAX-AMR.git\n",
            "  Cloning https://github.com/JA4S/JAX-AMR.git to /tmp/pip-req-build-nbw1yw3c\n",
            "  Running command git clone --filter=blob:none --quiet https://github.com/JA4S/JAX-AMR.git /tmp/pip-req-build-nbw1yw3c\n",
            "  Resolved https://github.com/JA4S/JAX-AMR.git to commit b14c2f9d2750dcf00c69edbf990e3e5be57b3ab5\n",
            "  Preparing metadata (setup.py) ... \u001b[?25l\u001b[?25hdone\n",
            "Building wheels for collected packages: jaxamr\n",
            "  Building wheel for jaxamr (setup.py) ... \u001b[?25l\u001b[?25hdone\n",
            "  Created wheel for jaxamr: filename=jaxamr-0.1-py3-none-any.whl size=7661 sha256=428a30c14850f99c48a159576b258adda56cd16ed675e405110a20ece8ad34e0\n",
            "  Stored in directory: /tmp/pip-ephem-wheel-cache-yf_lev9g/wheels/d9/bd/41/7650f74abb843dacaedad51fa30a349daba1c5b4f30994990c\n",
            "Successfully built jaxamr\n",
            "Installing collected packages: jaxamr\n",
            "Successfully installed jaxamr-0.1\n",
            "--2025-05-09 10:09:38--  https://raw.githubusercontent.com/JA4S/JAX-AMR/main/examples/simple_solver.py\n",
            "Resolving raw.githubusercontent.com (raw.githubusercontent.com)... 185.199.108.133, 185.199.109.133, 185.199.110.133, ...\n",
            "Connecting to raw.githubusercontent.com (raw.githubusercontent.com)|185.199.108.133|:443... connected.\n",
            "HTTP request sent, awaiting response... 200 OK\n",
            "Length: 2866 (2.8K) [text/plain]\n",
            "Saving to: ‘simple_solver.py’\n",
            "\n",
            "simple_solver.py    100%[===================>]   2.80K  --.-KB/s    in 0s      \n",
            "\n",
            "2025-05-09 10:09:38 (46.0 MB/s) - ‘simple_solver.py’ saved [2866/2866]\n",
            "\n"
          ]
        }
      ],
      "source": [
        "# Copyright © 2025 Haocheng Wen, Faxuan Luo\n",
        "# SPDX-License-Identifier: MIT\n",
        "\n",
        "!pip install git+https://github.com/JA4S/JAX-AMR.git\n",
        "!wget https://raw.githubusercontent.com/JA4S/JAX-AMR/main/examples/simple_solver.py"
      ]
    },
    {
      "cell_type": "code",
      "source": [
        "from jaxamr import amr, amraux\n",
        "import simple_solver as solver\n",
        "\n",
        "import jax\n",
        "import jax.numpy as jnp\n",
        "import matplotlib.pyplot as plt\n",
        "from tqdm.auto import tqdm\n",
        "\n",
        "jax.config.update(\"jax_enable_x64\", True)\n",
        "jax.config.update('jax_platform_name', 'cpu')"
      ],
      "metadata": {
        "id": "VPDS3CM66jXS"
      },
      "execution_count": 2,
      "outputs": []
    },
    {
      "cell_type": "markdown",
      "source": [
        "# Set computation parameters"
      ],
      "metadata": {
        "id": "DEIT6_sPV76y"
      }
    },
    {
      "cell_type": "code",
      "source": [
        "Lx = 1.0\n",
        "Ly = 1.0\n",
        "\n",
        "nx = 200\n",
        "ny = 200\n",
        "\n",
        "dx = Lx/nx\n",
        "dy = Ly/ny\n",
        "\n",
        "base_grid = {'Lx':Lx,'Ly':Ly,'Nx':nx,'Ny':ny}\n",
        "\n",
        "n_block = [\n",
        "    [1, 1],  # Level 0\n",
        "    [20, 20], # Level 1\n",
        "    [2, 2],  # Level 2\n",
        "    [2, 2],  # Level 3\n",
        "    [2, 2]   # Level 4\n",
        "] # x-direction, y-direction\n",
        "\n",
        "template_node_num = 1\n",
        "\n",
        "buffer_num = 2\n",
        "\n",
        "refinement_tolerance = {\n",
        "    'density': 5.0,\n",
        "    'velocity': 0.5\n",
        "}\n",
        "\n",
        "amr_config = {'base_grid':base_grid,\n",
        "        'n_block':n_block,\n",
        "        'template_node_num':template_node_num,\n",
        "        'buffer_num':buffer_num,\n",
        "        'refinement_tolerance':refinement_tolerance\n",
        "}\n",
        "\n",
        "amr.set_amr(amr_config)\n",
        "\n",
        "dx = [dx] # Grid size in refinement levels\n",
        "dy = [dy]\n",
        "for i, (bx, by) in enumerate(n_block[1:], 1):\n",
        "    dx.append(Lx/nx / (2.0**i))\n",
        "    dy.append(Ly/ny / (2.0**i))"
      ],
      "metadata": {
        "id": "MD3wF6r86Duk"
      },
      "execution_count": 3,
      "outputs": []
    },
    {
      "cell_type": "markdown",
      "source": [
        "# Initilization"
      ],
      "metadata": {
        "id": "oDgvtIkWWDk_"
      }
    },
    {
      "cell_type": "code",
      "source": [
        "X, Y, U = solver.initialize(nx, ny)\n",
        "\n",
        "blk_data0 = jnp.array([U])\n",
        "\n",
        "blk_info0 = {\n",
        "      'number': 1,\n",
        "      'index': jnp.array([0, 0, 0]),\n",
        "      'glob_index': jnp.array([[0, 0]]),\n",
        "      'neighbor_index': jnp.array([[-1, -1, -1, -1]])\n",
        "        }"
      ],
      "metadata": {
        "id": "8sc3isWU8jrF"
      },
      "execution_count": 4,
      "outputs": []
    },
    {
      "cell_type": "markdown",
      "source": [
        "# AMR main loop"
      ],
      "metadata": {
        "id": "KmHvyTl-WISM"
      }
    },
    {
      "cell_type": "code",
      "source": [
        "dt = 0.00006 * 8  # time step\n",
        "\n",
        "nt = 30 # computation step\n",
        "\n",
        "amr_update_step = 2 # AMR update step\n",
        "\n",
        "amr_initialized = False\n",
        "\n",
        "for step in tqdm(range(nt), desc=\"Progress\", unit=\"step\"):\n",
        "\n",
        "    if amr_initialized == False :\n",
        "\n",
        "        blk_data1, blk_info1, max_blk_num1 = amr.initialize(1, blk_data0, blk_info0, 'density', dx[1], dy[1])\n",
        "        blk_data2, blk_info2, max_blk_num2 = amr.initialize(2, blk_data1, blk_info1, 'density', dx[2], dy[2])\n",
        "        blk_data3, blk_info3, max_blk_num3 = amr.initialize(3, blk_data2, blk_info2, 'density', dx[3], dy[3])\n",
        "\n",
        "        amr_initialized = True\n",
        "\n",
        "    elif (step % amr_update_step == 0):\n",
        "        blk_data1, blk_info1, max_blk_num1 = amr.update(1, blk_data0, blk_info0, 'density', dx[1], dy[1], blk_data1, blk_info1, max_blk_num1)\n",
        "        blk_data2, blk_info2, max_blk_num2 = amr.update(2, blk_data1, blk_info1, 'density', dx[2], dy[2], blk_data2, blk_info2, max_blk_num2)\n",
        "        blk_data3, blk_info3, max_blk_num3 = amr.update(3, blk_data2, blk_info2, 'density', dx[3], dy[3], blk_data3, blk_info3, max_blk_num3)\n",
        "\n",
        "    '''Crossover advance'''\n",
        "    for _ in range(2):\n",
        "        for _ in range(2):\n",
        "            for _ in range(2):\n",
        "                blk_data3 = solver.rk2(3, blk_data2, dx[3], dy[3], dt/8.0, blk_data3, blk_info3)\n",
        "            blk_data2 = solver.rk2(2, blk_data1, dx[2], dy[2], dt/4.0, blk_data2, blk_info2)\n",
        "        blk_data1 = solver.rk2(1, blk_data0, dx[1], dy[1], dt/2.0, blk_data1, blk_info1)\n",
        "    blk_data0 = solver.rk2_L0(blk_data0, dx[0], dy[0], dt)\n",
        "\n",
        "\n",
        "    '''Synchronous advance'''\n",
        "    #blk_data3 = solver.rk2(3, blk_data2, dx[3], dy[3], dt/8.0, blk_data3, blk_info3)\n",
        "    #blk_data2 = solver.rk2(2, blk_data1, dx[2], dy[2], dt/8.0, blk_data2, blk_info2)\n",
        "    #blk_data1 = solver.rk2(1, blk_data0, dx[1], dy[1], dt/8.0, blk_data1, blk_info1)\n",
        "    #blk_data0 = solver.rk2_L0(blk_data0, dx[0], dy[0], dt/8.0)\n",
        "\n",
        "\n",
        "    blk_data2 = amr.interpolate_fine_to_coarse(3, blk_data2, blk_data3, blk_info3)\n",
        "    blk_data1 = amr.interpolate_fine_to_coarse(2, blk_data1, blk_data2, blk_info2)\n",
        "    blk_data0 = amr.interpolate_fine_to_coarse(1, blk_data0, blk_data1, blk_info1)"
      ],
      "metadata": {
        "id": "VYXUngVyE3CZ",
        "outputId": "1c418a99-a3aa-47d0-a7a7-d749f6ccb343",
        "colab": {
          "base_uri": "https://localhost:8080/",
          "height": 1000,
          "referenced_widgets": [
            "44bb2109fc7940fdbd4813c947a50348",
            "0f08062fc3454d20b03a0d14f66e072e",
            "62750caefea749ffb544e5ece553c914",
            "7f878b53e68840ea9d30697630958bce",
            "15b106a7221c480cb06e85c18934f22f",
            "748e644ddb6f4fa7a7ee87b8398a2ec8",
            "56943e9fa3d14a4b9f7ad045d26ac2d7",
            "70fe1731be754815961bae86bb3010d0",
            "f4e42710f50f4243bc220ffde8ec2245",
            "5819b0bede22472999bad60b9ad3dd2b",
            "2f824cf786eb4da284828df1a240e7f1"
          ]
        }
      },
      "execution_count": 5,
      "outputs": [
        {
          "output_type": "display_data",
          "data": {
            "text/plain": [
              "Progress:   0%|          | 0/30 [00:00<?, ?step/s]"
            ],
            "application/vnd.jupyter.widget-view+json": {
              "version_major": 2,
              "version_minor": 0,
              "model_id": "44bb2109fc7940fdbd4813c947a50348"
            }
          },
          "metadata": {}
        },
        {
          "output_type": "stream",
          "name": "stdout",
          "text": [
            "\n",
            "AMR Initialized at Level [1] with [40] blocks\n",
            "\n",
            "AMR Initialized at Level [2] with [80] blocks\n",
            "\n",
            "AMR Initialized at Level [3] with [170] blocks\n",
            "\n",
            "AMR max_blk_num Updated as[ 80 ] at Level [ 1 ]\n",
            "\n",
            "AMR Updated at Level [1] with [40/80] blocks [valid/max]\n",
            "\n",
            "AMR Updated at Level [2] with [68/80] blocks [valid/max]\n",
            "\n",
            "AMR Updated at Level [3] with [156/170] blocks [valid/max]\n",
            "\n",
            "AMR Updated at Level [1] with [40/80] blocks [valid/max]\n",
            "\n",
            "AMR Updated at Level [2] with [70/80] blocks [valid/max]\n",
            "\n",
            "AMR max_blk_num Updated as[ 340 ] at Level [ 3 ]\n",
            "\n",
            "AMR Updated at Level [3] with [190/340] blocks [valid/max]\n",
            "\n",
            "AMR Updated at Level [1] with [40/80] blocks [valid/max]\n",
            "\n",
            "AMR Updated at Level [2] with [78/80] blocks [valid/max]\n",
            "\n",
            "AMR Updated at Level [3] with [202/340] blocks [valid/max]\n",
            "\n",
            "AMR Updated at Level [1] with [40/80] blocks [valid/max]\n",
            "\n",
            "AMR max_blk_num Updated as[ 160 ] at Level [ 2 ]\n",
            "\n",
            "AMR Updated at Level [2] with [87/160] blocks [valid/max]\n",
            "\n",
            "AMR Updated at Level [3] with [216/340] blocks [valid/max]\n",
            "\n",
            "AMR Updated at Level [1] with [40/80] blocks [valid/max]\n",
            "\n",
            "AMR Updated at Level [2] with [94/160] blocks [valid/max]\n",
            "\n",
            "AMR Updated at Level [3] with [265/340] blocks [valid/max]\n",
            "\n",
            "AMR Updated at Level [1] with [40/80] blocks [valid/max]\n",
            "\n",
            "AMR Updated at Level [2] with [96/160] blocks [valid/max]\n",
            "\n",
            "AMR Updated at Level [3] with [278/340] blocks [valid/max]\n",
            "\n",
            "AMR Updated at Level [1] with [40/80] blocks [valid/max]\n",
            "\n",
            "AMR Updated at Level [2] with [99/160] blocks [valid/max]\n",
            "\n",
            "AMR Updated at Level [3] with [284/340] blocks [valid/max]\n",
            "\n",
            "AMR Updated at Level [1] with [40/80] blocks [valid/max]\n",
            "\n",
            "AMR Updated at Level [2] with [104/160] blocks [valid/max]\n",
            "\n",
            "AMR Updated at Level [3] with [296/340] blocks [valid/max]\n",
            "\n",
            "AMR Updated at Level [1] with [40/80] blocks [valid/max]\n",
            "\n",
            "AMR Updated at Level [2] with [107/160] blocks [valid/max]\n",
            "\n",
            "AMR Updated at Level [3] with [325/340] blocks [valid/max]\n",
            "\n",
            "AMR Updated at Level [1] with [40/80] blocks [valid/max]\n",
            "\n",
            "AMR Updated at Level [2] with [116/160] blocks [valid/max]\n",
            "\n",
            "AMR max_blk_num Updated as[ 680 ] at Level [ 3 ]\n",
            "\n",
            "AMR Updated at Level [3] with [341/680] blocks [valid/max]\n",
            "\n",
            "AMR Updated at Level [1] with [40/80] blocks [valid/max]\n",
            "\n",
            "AMR Updated at Level [2] with [126/160] blocks [valid/max]\n",
            "\n",
            "AMR Updated at Level [3] with [346/680] blocks [valid/max]\n",
            "\n",
            "AMR Updated at Level [1] with [42/80] blocks [valid/max]\n",
            "\n",
            "AMR Updated at Level [2] with [132/160] blocks [valid/max]\n",
            "\n",
            "AMR Updated at Level [3] with [370/680] blocks [valid/max]\n",
            "\n",
            "AMR Updated at Level [1] with [48/80] blocks [valid/max]\n",
            "\n",
            "AMR Updated at Level [2] with [134/160] blocks [valid/max]\n",
            "\n",
            "AMR Updated at Level [3] with [384/680] blocks [valid/max]\n",
            "\n",
            "AMR Updated at Level [1] with [48/80] blocks [valid/max]\n",
            "\n",
            "AMR Updated at Level [2] with [136/160] blocks [valid/max]\n",
            "\n",
            "AMR Updated at Level [3] with [397/680] blocks [valid/max]\n"
          ]
        }
      ]
    },
    {
      "cell_type": "markdown",
      "source": [
        "# Result Visualization"
      ],
      "metadata": {
        "id": "xuxp3yA0WNTV"
      }
    },
    {
      "cell_type": "code",
      "source": [
        "# Density Contour\n",
        "plt.figure(figsize=(10, 8))\n",
        "ax = plt.gca()\n",
        "\n",
        "component = 0\n",
        "vrange = (0, 1)\n",
        "fig = amraux.plot_block_data(blk_data0[:, component], blk_info0, ax, vrange) # Level 0\n",
        "fig = amraux.plot_block_data(blk_data1[:, component], blk_info1, ax, vrange) # Level 1\n",
        "fig = amraux.plot_block_data(blk_data2[:, component], blk_info2, ax, vrange) # Level 2\n",
        "fig = amraux.plot_block_data(blk_data3[:, component], blk_info3, ax, vrange) # Level 3\n",
        "\n",
        "plt.colorbar(fig, ax=ax, label='Density')\n",
        "ax.set_xlabel('X')\n",
        "ax.set_ylabel('Y')\n",
        "plt.axis('equal')\n",
        "plt.show()\n",
        "\n",
        "# Refinement Level\n",
        "plt.figure(figsize=(10, 8))\n",
        "ax = plt.gca()\n",
        "\n",
        "component = 0\n",
        "vrange = (0, 3)\n",
        "fig = amraux.plot_block_data(0*jnp.ones_like(blk_data0[:, component]), blk_info0, ax, vrange) # Level 0\n",
        "fig = amraux.plot_block_data(1*jnp.ones_like(blk_data1[:, component]), blk_info1, ax, vrange) # Level 1\n",
        "fig = amraux.plot_block_data(2*jnp.ones_like(blk_data2[:, component]), blk_info2, ax, vrange) # Level 2\n",
        "fig = amraux.plot_block_data(3*jnp.ones_like(blk_data3[:, component]), blk_info3, ax, vrange) # Level 3\n",
        "\n",
        "plt.colorbar(fig, ax=ax, label='Refinement Level')\n",
        "ax.set_xlabel('X')\n",
        "ax.set_ylabel('Y')\n",
        "plt.axis('equal')\n",
        "plt.show()"
      ],
      "metadata": {
        "id": "fQYNp7eK8nfg",
        "outputId": "1aa3ba8a-58db-4111-8414-fc6a26691db2",
        "colab": {
          "base_uri": "https://localhost:8080/",
          "height": 1000
        }
      },
      "execution_count": 6,
      "outputs": [
        {
          "output_type": "display_data",
          "data": {
            "text/plain": [
              "<Figure size 1000x800 with 2 Axes>"
            ],
            "image/png": "[encoded data removed]"
          },
          "metadata": {}
        },
        {
          "output_type": "display_data",
          "data": {
            "text/plain": [
              "<Figure size 1000x800 with 2 Axes>"
            ],
            "image/png": "[encoded data removed]"
          },
          "metadata": {}
        }
      ]
    }
  ]
}